{
 "cells": [
  {
   "cell_type": "code",
   "execution_count": 36,
   "metadata": {},
   "outputs": [
    {
     "name": "stdout",
     "output_type": "stream",
     "text": [
      "Mean squared error: 2180092333003719168.00\n",
      "Root mean squared error: 1476513573.59\n",
      "R-squared: -1287880359718156.25\n"
     ]
    }
   ],
   "source": [
    "import pandas as pd\n",
    "from sklearn.linear_model import LinearRegression\n",
    "from sklearn.model_selection import train_test_split\n",
    "from sklearn.metrics import mean_squared_error, r2_score\n",
    "from datetime import datetime\n",
    "import numpy as np\n",
    "\n",
    "# Step 1: Data collection\n",
    "# http://www.howstat.com/cricket/Statistics/Players/PlayerProgressSummary_ODI.asp?PlayerID=3474\n",
    "data = pd.read_csv('player_data.csv')\n",
    "\n",
    "# Step 2: Data preprocessing\n",
    "# X = data[['Match No', 'Versus', 'Ground']] # features\n",
    "X = data[['Versus', 'Ground', 'Age']] # features\n",
    "y = data['Batting Runs'] # target variable\n",
    "# X['Date'] = pd.to_datetime(X['Date']) # convert date strings to datetime format\n",
    "# X['Date'] = datetime.strptime(X['Date'], '%d/%m/%Y')\n",
    "\n",
    "\n",
    "X = pd.get_dummies(X, columns=['Versus', 'Ground']) # one-hot encode categorical features\n",
    "X_train, X_test, y_train, y_test = train_test_split(X, y, test_size=0.1, random_state=0) # split into training and test sets\n",
    "\n",
    "# Step 3: Feature selection\n",
    "# You can use techniques like correlation analysis, recursive feature elimination, or principal component analysis to select relevant features\n",
    "\n",
    "# Step 4: Model training\n",
    "lr = LinearRegression()\n",
    "lr.fit(X_train, y_train)\n",
    "\n",
    "# Step 5: Model evaluation\n",
    "y_pred = lr.predict(X_test)\n",
    "mse = mean_squared_error(y_test, y_pred)\n",
    "rmse = np.sqrt(mse)\n",
    "r2 = r2_score(y_test, y_pred)\n",
    "print(f'Mean squared error: {mse:.2f}')\n",
    "print(f'Root mean squared error: {rmse:.2f}')\n",
    "print(f'R-squared: {r2:.2f}')\n",
    "\n",
    "# # Step 6: Prediction\n",
    "next_match = pd.DataFrame({\n",
    "    'Match No': [data['Match No'].max() + 1],\n",
    "    'Versus': ['Australia'],\n",
    "    'Ground': ['Sydney Cricket Ground'],\n",
    "    'Age': [12520]\n",
    "})\n",
    "# print(next_match)\n",
    "# next_match = pd.get_dummies(next_match, columns=['Versus', 'Ground']) # one-hot encode categorical features\n",
    "# print(next_match)\n",
    "# next_match_pred = lr.predict(next_match)\n",
    "# print(f'Predicted score for next match: {next_match_pred[0]:.2f}')\n"
   ]
  },
  {
   "cell_type": "code",
   "execution_count": 37,
   "metadata": {},
   "outputs": [
    {
     "data": {
      "image/png": "[encoded data removed]",
      "text/plain": [
       "<Figure size 432x288 with 1 Axes>"
      ]
     },
     "metadata": {
      "needs_background": "light"
     },
     "output_type": "display_data"
    }
   ],
   "source": [
    "import matplotlib.pyplot as plt\n",
    "\n",
    "plt.scatter(y_test, y_pred)\n",
    "plt.xlabel('Actual Batting Runs')\n",
    "plt.ylabel('Predicted Batting Runs')\n",
    "plt.title('Actual vs Predicted Batting Runs')\n",
    "plt.show()\n"
   ]
  },
  {
   "cell_type": "code",
   "execution_count": 38,
   "metadata": {},
   "outputs": [
    {
     "data": {
      "image/png": "[encoded data removed]",
      "text/plain": [
       "<Figure size 432x288 with 1 Axes>"
      ]
     },
     "metadata": {
      "needs_background": "light"
     },
     "output_type": "display_data"
    }
   ],
   "source": [
    "import matplotlib.pyplot as plt\n",
    "\n",
    "# Sort y_test and y_pred by increasing order of y_test\n",
    "sorted_idx = y_test.argsort()\n",
    "y_test_sorted = y_test.iloc[sorted_idx]\n",
    "y_pred_sorted = y_pred[sorted_idx]\n",
    "\n",
    "# Create line plot of actual vs predicted values\n",
    "plt.plot(range(len(y_test)), y_test_sorted, label='Actual')\n",
    "plt.plot(range(len(y_pred)), y_pred_sorted, label='Predicted')\n",
    "plt.xlabel('Observation')\n",
    "plt.ylabel('Batting Runs')\n",
    "plt.title('Actual vs Predicted Batting Runs')\n",
    "plt.legend()\n",
    "plt.show()\n"
   ]
  },
  {
   "cell_type": "code",
   "execution_count": 24,
   "metadata": {},
   "outputs": [
    {
     "name": "stdout",
     "output_type": "stream",
     "text": [
      "Mean squared error: 2411.41\n",
      "Root mean squared error: 49.11\n",
      "R-squared: -0.42\n",
      "Predicted score for next match: 38.29\n"
     ]
    }
   ],
   "source": [
    "import pandas as pd\n",
    "from sklearn.ensemble import RandomForestRegressor\n",
    "from sklearn.model_selection import train_test_split\n",
    "from sklearn.metrics import mean_squared_error, r2_score\n",
    "import numpy as np\n",
    "from sklearn.metrics import accuracy_score, confusion_matrix, precision_score, recall_score, ConfusionMatrixDisplay\n",
    "\n",
    "# Step 1: Data collection\n",
    "# http://www.howstat.com/cricket/Statistics/Players/PlayerProgressSummary_ODI.asp?PlayerID=3474\n",
    "data = pd.read_csv('player_data.csv')\n",
    "\n",
    "# Step 2: Data preprocessing\n",
    "X = data[['Versus', 'Ground', 'Age']] # features\n",
    "y = data['Batting Runs'] # target variable\n",
    "X = pd.get_dummies(X, columns=['Versus', 'Ground']) # one-hot encode categorical features\n",
    "X_train, X_test, y_train, y_test = train_test_split(X, y, test_size=0.1, random_state=0) # split into training and test sets\n",
    "\n",
    "# Step 3: Feature selection\n",
    "# You can use techniques like correlation analysis, recursive feature elimination, or principal component analysis to select relevant features\n",
    "\n",
    "# Step 4: Model training\n",
    "rf = RandomForestRegressor(n_estimators=100, random_state=0)\n",
    "rf.fit(X_train, y_train)\n",
    "\n",
    "\n",
    "# Step 5: Model evaluation\n",
    "y_pred = rf.predict(X_test)\n",
    "mse = mean_squared_error(y_test, y_pred)\n",
    "rmse = np.sqrt(mse)\n",
    "r2 = r2_score(y_test, y_pred)\n",
    "print(f'Mean squared error: {mse:.2f}')\n",
    "print(f'Root mean squared error: {rmse:.2f}')\n",
    "print(f'R-squared: {r2:.2f}')\n",
    "\n",
    "# accuracy = accuracy_score(y_test, y_pred)\n",
    "# print(\"Accuracy:\", accuracy)\n",
    "\n",
    "# # # # Step 6: Prediction\n",
    "next_match = pd.DataFrame({\n",
    "    'Versus': ['Australia'],\n",
    "    'Ground': ['Sydney Cricket Ground'],\n",
    "    'Age': [12520]\n",
    "})\n",
    "# next_match = pd.get_dummies(next_match, columns=['Versus', 'Ground']) # one-hot encode categorical features\n",
    "# next_match_pred = rf.predict(next_match)\n",
    "# print(f'Predicted score for next match: {next_match_pred[0]:.2f}')\n",
    "\n",
    "# One-hot encode categorical features in next_match\n",
    "next_match = pd.get_dummies(next_match, columns=['Versus', 'Ground']) \n",
    "# Add missing columns to next_match (since not all values were present in X_train)\n",
    "missing_cols = set(X_train.columns) - set(next_match.columns)\n",
    "for col in missing_cols:\n",
    "    next_match[col] = 0\n",
    "next_match = next_match[X_train.columns] # Reorder columns to match X_train\n",
    "\n",
    "# Predict batting score for next match\n",
    "next_match_pred = rf.predict(next_match)\n",
    "print(f'Predicted score for next match: {next_match_pred[0]:.2f}')\n"
   ]
  },
  {
   "cell_type": "code",
   "execution_count": 9,
   "metadata": {},
   "outputs": [
    {
     "name": "stdout",
     "output_type": "stream",
     "text": [
      "                   Age  Batting Runs\n",
      "Age           1.000000      0.114791\n",
      "Batting Runs  0.114791      1.000000\n"
     ]
    },
    {
     "data": {
      "image/png": "[encoded data removed]",
      "text/plain": [
       "<Figure size 432x288 with 2 Axes>"
      ]
     },
     "metadata": {
      "needs_background": "light"
     },
     "output_type": "display_data"
    }
   ],
   "source": [
    "import pandas as pd\n",
    "import seaborn as sns\n",
    "import matplotlib.pyplot as plt\n",
    "\n",
    "# Read the data into a pandas dataframe\n",
    "data = pd.read_csv('player_data.csv')\n",
    "\n",
    "# Calculate the correlation coefficients between the features\n",
    "corr = data[['Versus', 'Ground', 'Age','Batting Runs']].corr()\n",
    "\n",
    "print(corr)\n",
    "\n",
    "# Create a heatmap of the correlation matrix using Seaborn\n",
    "sns.heatmap(corr, annot=True, cmap='YlGnBu')\n",
    "\n",
    "# Show the plot\n",
    "plt.show()\n"
   ]
  },
  {
   "cell_type": "code",
   "execution_count": null,
   "metadata": {},
   "outputs": [],
   "source": []
  }
 ],
 "metadata": {
  "kernelspec": {
   "display_name": "Python 3",
   "language": "python",
   "name": "python3"
  },
  "language_info": {
   "codemirror_mode": {
    "name": "ipython",
    "version": 3
   },
   "file_extension": ".py",
   "mimetype": "text/x-python",
   "name": "python",
   "nbconvert_exporter": "python",
   "pygments_lexer": "ipython3",
   "version": "3.8.3"
  }
 },
 "nbformat": 4,
 "nbformat_minor": 4
}
